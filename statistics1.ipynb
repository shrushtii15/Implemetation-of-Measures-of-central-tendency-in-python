{
  "nbformat": 4,
  "nbformat_minor": 0,
  "metadata": {
    "colab": {
      "provenance": []
    },
    "kernelspec": {
      "name": "python3",
      "display_name": "Python 3"
    },
    "language_info": {
      "name": "python"
    }
  },
  "cells": [
    {
      "cell_type": "markdown",
      "source": [
        "**THEORY QUESTIONS**"
      ],
      "metadata": {
        "id": "BTmQThk9m2Zh"
      }
    },
    {
      "cell_type": "markdown",
      "source": [
        "\n",
        "\n",
        "1. What is statistics, and why is it important?\n",
        "   - Statistics is the study of collecting, analyzing, and interpreting data. It's used to make informed decisions.\n",
        "\n",
        "2. What are the two main types of statistics?\n",
        "  -  Descriptive (summarizes data) and inferential (draws conclusions from samples).\n",
        "\n",
        "3. What are descriptive statistics?\n",
        "   - Methods that summarize data like mean, median, mode, and graphs.\n",
        "\n",
        "4. What is inferential statistics?\n",
        "  -  Using a sample to make predictions about a population.\n",
        "\n",
        "5. What is sampling in statistics?\n",
        "  - Selecting a small group from a population to represent the whole.\n",
        "\n",
        "6. What are the different types of sampling methods?\n",
        "  -  Random, systematic, stratified, cluster, convenience, quota.\n",
        "\n",
        "7. What is the difference between random and non-random sampling?\n",
        "   - Random: equal chance of selection. Non-random: based on choice or ease.\n",
        "\n",
        "8. Define and give examples of qualitative and quantitative data.\n",
        "  - Qualitative: non-numerical (color, gender). Quantitative: numerical (height, age).\n",
        "\n",
        "9. What are the different types of data in statistics?\n",
        "  - Qualitative (nominal, ordinal) and quantitative (discrete, continuous).\n",
        "\n",
        "10. Explain nominal, ordinal, interval, and ratio levels of measurement.\n",
        "    - Nominal: categories only.\n",
        "      Ordinal: ordered categories.\n",
        "      Interval: numeric, equal gaps, no true zero.\n",
        "      Ratio: like interval, with true zero.\n",
        "\n",
        "11. What is the measure of central tendency?\n",
        "    - A single value representing the center of data (mean, median, mode).\n",
        "\n",
        "12. Define mean, median, and mode.\n",
        "   - Mean: average.\n",
        "      Median: middle value.\n",
        "      Mode: most frequent value.\n",
        "\n",
        "13. What is the significance of the measure of central tendency?\n",
        "    - It helps to describe the general trend of the data.\n",
        "\n",
        "14. What is variance, and how is it calculated?\n",
        "    - Average of squared differences from the mean; shows spread.\n",
        "\n",
        "15. What is standard deviation, and why is it important?\n",
        "  -  Square root of variance; shows how much data varies from the mean.\n",
        "\n",
        "16. Define and explain the term range in statistics.\n",
        "   - Difference between highest and lowest value.\n",
        "\n",
        "17. What is the difference between variance and standard deviation?\n",
        "   - Variance is squared units; standard deviation is in original units.\n",
        "\n",
        "18. What is skewness in a dataset?\n",
        "   - Shows if data is symmetric or has a longer tail on one side.\n",
        "\n",
        "19. What does it mean if a dataset is positively or negatively skewed?\n",
        "   - Positive: tail on right. Negative: tail on left.\n",
        "\n",
        "20. Define and explain kurtosis.\n",
        "   - Measures tail thickness. High = heavy tails. Low = light tails.\n",
        "\n",
        "21. What is the purpose of covariance?\n",
        "   - Shows how two variables vary together.\n",
        "\n",
        "22. What does correlation measure in statistics?\n",
        "   - Strength and direction of the relationship between two variables.\n",
        "\n",
        "23. What is the difference between covariance and correlation?\n",
        "    - Covariance shows direction; correlation shows strength and direction.\n",
        "\n",
        "24. What are some real-world applications of statistics?\n",
        "   - Used in business, health, education, government, sports.\n",
        "\n",
        "\n"
      ],
      "metadata": {
        "id": "zKx7BaipmDbO"
      }
    },
    {
      "cell_type": "markdown",
      "source": [
        "**PRACTICAL QUESTION**"
      ],
      "metadata": {
        "id": "K6UF5aXQnH8C"
      }
    },
    {
      "cell_type": "code",
      "source": [
        "# 1. How do you calculate the mean, median, and mode of a dataset?\n",
        "\n",
        "import statistics as stats\n",
        "data = [12, 15, 13, 17, 19, 13, 13]\n",
        "print(\"Mean:\", stats.mean(data))\n",
        "print(\"Median:\", stats.median(data))\n",
        "print(\"Mode:\", stats.mode(data))\n"
      ],
      "metadata": {
        "colab": {
          "base_uri": "https://localhost:8080/"
        },
        "id": "iWwOp7RXwCAw",
        "outputId": "85623a77-eb9c-4aaa-e007-599885b58f3b"
      },
      "execution_count": 3,
      "outputs": [
        {
          "output_type": "stream",
          "name": "stdout",
          "text": [
            "Mean: 14.571428571428571\n",
            "Median: 13\n",
            "Mode: 13\n"
          ]
        }
      ]
    },
    {
      "cell_type": "code",
      "source": [
        "# 2. Write a Python program to compute the variance and standard deviation.\n",
        "\n",
        "print(\"Variance:\", stats.variance(data))\n",
        "print(\"Standard Deviation:\", stats.stdev(data))\n"
      ],
      "metadata": {
        "colab": {
          "base_uri": "https://localhost:8080/"
        },
        "id": "JAwT0WGkwTy3",
        "outputId": "f7d75e6e-68f5-4230-a38f-1a855133e4e9"
      },
      "execution_count": 4,
      "outputs": [
        {
          "output_type": "stream",
          "name": "stdout",
          "text": [
            "Variance: 6.619047619047619\n",
            "Standard Deviation: 2.5727509827124\n"
          ]
        }
      ]
    },
    {
      "cell_type": "code",
      "source": [
        "# 3. Create a dataset and classify it into nominal, ordinal, interval, and ratio types.\n",
        "\n",
        "dataset = {\n",
        "    \"Nominal\": [\"Red\", \"Blue\"],\n",
        "    \"Ordinal\": [\"Low\", \"Medium\", \"High\"],\n",
        "    \"Interval\": [20, 30, 40],  # Temperature\n",
        "    \"Ratio\": [5, 10, 15]       # Weight\n",
        "}"
      ],
      "metadata": {
        "id": "ZTbDzCgkwkGB"
      },
      "execution_count": 5,
      "outputs": []
    },
    {
      "cell_type": "code",
      "source": [
        "# 4. Implement random sampling and stratified sampling.\n",
        "\n",
        "import pandas as pd\n",
        "df = pd.DataFrame({'Gender': ['M','F','M','F'], 'Score':[70,60,90,80]})\n",
        "print(\"Random:\\n\", df.sample(n=2))\n",
        "print(\"Stratified:\\n\", df.groupby('Gender').sample(n=1))"
      ],
      "metadata": {
        "colab": {
          "base_uri": "https://localhost:8080/"
        },
        "id": "8s7Vc5RKx9Tx",
        "outputId": "9791f0a9-48e6-48ea-a0f4-f4c9a801d151"
      },
      "execution_count": 6,
      "outputs": [
        {
          "output_type": "stream",
          "name": "stdout",
          "text": [
            "Random:\n",
            "   Gender  Score\n",
            "0      M     70\n",
            "1      F     60\n",
            "Stratified:\n",
            "   Gender  Score\n",
            "1      F     60\n",
            "0      M     70\n"
          ]
        }
      ]
    },
    {
      "cell_type": "code",
      "source": [
        "# 5. Write a function to calculate the range of a dataset.\n",
        "\n",
        "def calc_range(data): return max(data) - min(data)\n",
        "print(\"Range:\", calc_range(data))"
      ],
      "metadata": {
        "colab": {
          "base_uri": "https://localhost:8080/"
        },
        "id": "_MLb11uIx9Ka",
        "outputId": "9330e082-e041-4c85-c485-8a1b496a526c"
      },
      "execution_count": 7,
      "outputs": [
        {
          "output_type": "stream",
          "name": "stdout",
          "text": [
            "Range: 7\n"
          ]
        }
      ]
    },
    {
      "cell_type": "code",
      "source": [
        "# 6. Create a dataset and plot its histogram to visualize skewness.\n",
        "\n",
        "import matplotlib.pyplot as plt\n",
        "plt.hist(data, bins=5)\n",
        "plt.title(\"Histogram\")\n",
        "plt.show()"
      ],
      "metadata": {
        "colab": {
          "base_uri": "https://localhost:8080/",
          "height": 452
        },
        "id": "7dsAFBY9x87U",
        "outputId": "c1dd1aae-54dc-4dca-a5f2-472f3785c31f"
      },
      "execution_count": 8,
      "outputs": [
        {
          "output_type": "display_data",
          "data": {
            "text/plain": [
              "<Figure size 640x480 with 1 Axes>"
            ],
            "image/png": "[encoded data removed]"
          },
          "metadata": {}
        }
      ]
    },
    {
      "cell_type": "code",
      "source": [
        "# 7. Calculate skewness and kurtosis of a dataset.\n",
        "\n",
        "from scipy.stats import skew, kurtosis\n",
        "print(\"Skewness:\", skew(data))\n",
        "print(\"Kurtosis:\", kurtosis(data))"
      ],
      "metadata": {
        "colab": {
          "base_uri": "https://localhost:8080/"
        },
        "id": "2Nkc2hAyyWf3",
        "outputId": "00a04093-0fff-4a45-95e3-fde2f7d0302b"
      },
      "execution_count": 9,
      "outputs": [
        {
          "output_type": "stream",
          "name": "stdout",
          "text": [
            "Skewness: 0.7676066877736226\n",
            "Kurtosis: -0.8631282024739924\n"
          ]
        }
      ]
    },
    {
      "cell_type": "code",
      "source": [
        "# 8. Generate data and demonstrate positive & negative skewness.\n",
        "\n",
        "print(\"Positive:\", skew([1,2,3,4,10]))\n",
        "print(\"Negative:\", skew([10,8,6,4,1]))\n",
        "\n"
      ],
      "metadata": {
        "colab": {
          "base_uri": "https://localhost:8080/"
        },
        "id": "2PAs4SKqyWcP",
        "outputId": "b5a69b10-1358-4c33-8060-f9030d048015"
      },
      "execution_count": 10,
      "outputs": [
        {
          "output_type": "stream",
          "name": "stdout",
          "text": [
            "Positive: 1.1384199576606167\n",
            "Negative: -0.20779755923535562\n"
          ]
        }
      ]
    },
    {
      "cell_type": "code",
      "source": [
        "# 9. Calculate covariance between two datasets.\n",
        "\n",
        "import numpy as np\n",
        "x = [2, 4, 6]\n",
        "y = [1, 3, 5]\n",
        "print(\"Covariance:\\n\", np.cov(x, y))"
      ],
      "metadata": {
        "colab": {
          "base_uri": "https://localhost:8080/"
        },
        "id": "krq5-8UcyWZJ",
        "outputId": "32427cd8-5783-4764-998f-f2227e04a128"
      },
      "execution_count": 11,
      "outputs": [
        {
          "output_type": "stream",
          "name": "stdout",
          "text": [
            "Covariance:\n",
            " [[4. 4.]\n",
            " [4. 4.]]\n"
          ]
        }
      ]
    },
    {
      "cell_type": "code",
      "source": [
        "# 10. Calculate the correlation coefficient between two datasets.\n",
        "\n",
        "print(\"Correlation:\\n\", np.corrcoef(x, y))"
      ],
      "metadata": {
        "colab": {
          "base_uri": "https://localhost:8080/"
        },
        "id": "j4jtNz3WyWWN",
        "outputId": "bd06f4bf-e19e-41ea-acb0-3b0927d29701"
      },
      "execution_count": 12,
      "outputs": [
        {
          "output_type": "stream",
          "name": "stdout",
          "text": [
            "Correlation:\n",
            " [[1. 1.]\n",
            " [1. 1.]]\n"
          ]
        }
      ]
    },
    {
      "cell_type": "code",
      "source": [
        "# 11. Create a scatter plot to visualize the relationship between two variables.\n",
        "\n",
        "plt.scatter(x, y)\n",
        "plt.title(\"Scatter Plot\")\n",
        "plt.show()"
      ],
      "metadata": {
        "colab": {
          "base_uri": "https://localhost:8080/",
          "height": 452
        },
        "id": "gW0SVch5yWTB",
        "outputId": "0b6ef11e-fa1d-4eaf-ba5c-a33161ed9503"
      },
      "execution_count": 13,
      "outputs": [
        {
          "output_type": "display_data",
          "data": {
            "text/plain": [
              "<Figure size 640x480 with 1 Axes>"
            ],
            "image/png": "[encoded data removed]"
          },
          "metadata": {}
        }
      ]
    },
    {
      "cell_type": "code",
      "source": [
        "# 12. Compare simple random sampling and systematic sampling.\n",
        "\n",
        "print(\"Systematic:\\n\", df.iloc[::2])"
      ],
      "metadata": {
        "colab": {
          "base_uri": "https://localhost:8080/"
        },
        "id": "KHmrhvQ3yWGg",
        "outputId": "f6ffdce8-ee20-4702-8e67-10555e61397a"
      },
      "execution_count": 14,
      "outputs": [
        {
          "output_type": "stream",
          "name": "stdout",
          "text": [
            "Systematic:\n",
            "   Gender  Score\n",
            "0      M     70\n",
            "2      M     90\n"
          ]
        }
      ]
    },
    {
      "cell_type": "code",
      "source": [
        "# 13. Calculate the mean, median, and mode of grouped data.\n",
        "\n",
        "df['Group'] = pd.cut(df['Score'], bins=2)\n",
        "print(df.groupby('Group')['Score'].mean())"
      ],
      "metadata": {
        "colab": {
          "base_uri": "https://localhost:8080/"
        },
        "id": "tc3yJ4K5zGen",
        "outputId": "5d5721f9-8c75-4f2c-a8d6-412729441273"
      },
      "execution_count": 15,
      "outputs": [
        {
          "output_type": "stream",
          "name": "stdout",
          "text": [
            "Group\n",
            "(59.97, 75.0]    65.0\n",
            "(75.0, 90.0]     85.0\n",
            "Name: Score, dtype: float64\n"
          ]
        },
        {
          "output_type": "stream",
          "name": "stderr",
          "text": [
            "<ipython-input-15-c12a2d5e6217>:4: FutureWarning: The default of observed=False is deprecated and will be changed to True in a future version of pandas. Pass observed=False to retain current behavior or observed=True to adopt the future default and silence this warning.\n",
            "  print(df.groupby('Group')['Score'].mean())\n"
          ]
        }
      ]
    },
    {
      "cell_type": "code",
      "source": [
        "# 14. Simulate data and calculate central tendency & dispersion.\n",
        "\n",
        "data = np.random.normal(50, 10, 100)\n",
        "print(\"Mean:\", np.mean(data), \"Std Dev:\", np.std(data))"
      ],
      "metadata": {
        "colab": {
          "base_uri": "https://localhost:8080/"
        },
        "id": "2U3ex-1QzHPt",
        "outputId": "febc313e-4bbe-4536-f015-cf06dd49be78"
      },
      "execution_count": 16,
      "outputs": [
        {
          "output_type": "stream",
          "name": "stdout",
          "text": [
            "Mean: 49.165343204025966 Std Dev: 9.637883667222022\n"
          ]
        }
      ]
    },
    {
      "cell_type": "code",
      "source": [
        "# 15. Use NumPy or pandas to summarize descriptive statistics.\n",
        "\n",
        "print(pd.Series(data).describe())"
      ],
      "metadata": {
        "colab": {
          "base_uri": "https://localhost:8080/"
        },
        "id": "F7C_-XUYzHKU",
        "outputId": "f05a2e06-a018-48ab-9ff3-1776ab50901c"
      },
      "execution_count": 17,
      "outputs": [
        {
          "output_type": "stream",
          "name": "stdout",
          "text": [
            "count    100.000000\n",
            "mean      49.165343\n",
            "std        9.686438\n",
            "min       26.607839\n",
            "25%       44.321620\n",
            "50%       48.692511\n",
            "75%       54.208154\n",
            "max       70.262715\n",
            "dtype: float64\n"
          ]
        }
      ]
    },
    {
      "cell_type": "code",
      "source": [
        "# 16. Plot a boxplot to identify spread and outliers.\n",
        "\n",
        "plt.boxplot(data)\n",
        "plt.show()"
      ],
      "metadata": {
        "colab": {
          "base_uri": "https://localhost:8080/",
          "height": 430
        },
        "id": "Ys24e-ZmzHG6",
        "outputId": "53fa8258-5bc7-49ae-8fbc-73486566c344"
      },
      "execution_count": 18,
      "outputs": [
        {
          "output_type": "display_data",
          "data": {
            "text/plain": [
              "<Figure size 640x480 with 1 Axes>"
            ],
            "image/png": "[encoded data removed]"
          },
          "metadata": {}
        }
      ]
    },
    {
      "cell_type": "code",
      "source": [
        "# 17. Calculate the interquartile range (IQR) of a dataset.\n",
        "\n",
        "q1, q3 = np.percentile(data, [25, 75])\n",
        "print(\"IQR:\", q3 - q1)"
      ],
      "metadata": {
        "colab": {
          "base_uri": "https://localhost:8080/"
        },
        "id": "4Y9qX347zHCL",
        "outputId": "bf652a91-5bce-44f7-97be-36e826fb2f43"
      },
      "execution_count": 19,
      "outputs": [
        {
          "output_type": "stream",
          "name": "stdout",
          "text": [
            "IQR: 9.8865344188659\n"
          ]
        }
      ]
    },
    {
      "cell_type": "code",
      "source": [
        "# 18. Implement Z-score normalization and explain its significance.\n",
        "\n",
        "from scipy.stats import zscore\n",
        "print(\"Z-scores:\", zscore(data)[:5])"
      ],
      "metadata": {
        "colab": {
          "base_uri": "https://localhost:8080/"
        },
        "id": "PctPhQuyzG-5",
        "outputId": "bdba5a8d-086c-44ee-b7c3-efb3b159f3a1"
      },
      "execution_count": 20,
      "outputs": [
        {
          "output_type": "stream",
          "name": "stdout",
          "text": [
            "Z-scores: [-0.25774436  0.50370481 -0.01210765  0.56516196 -0.45781032]\n"
          ]
        }
      ]
    },
    {
      "cell_type": "code",
      "source": [
        "# 19. Compare two datasets using their standard deviations.\n",
        "\n",
        "a = np.random.normal(50, 5, 100)\n",
        "b = np.random.normal(50, 15, 100)\n",
        "print(\"STD A:\", np.std(a), \"STD B:\", np.std(b))"
      ],
      "metadata": {
        "colab": {
          "base_uri": "https://localhost:8080/"
        },
        "id": "4CmzS-BvzzPd",
        "outputId": "1c69b597-1e1b-4284-9358-9555758ea590"
      },
      "execution_count": 21,
      "outputs": [
        {
          "output_type": "stream",
          "name": "stdout",
          "text": [
            "STD A: 4.547546391547612 STD B: 16.139337101976064\n"
          ]
        }
      ]
    },
    {
      "cell_type": "code",
      "source": [
        "# 20. Visualize covariance using a heatmaap\n",
        "\n",
        "import seaborn as sns\n",
        "df = pd.DataFrame({'x': x, 'y': y})\n",
        "sns.heatmap(df.cov(), annot=True)\n",
        "plt.show()"
      ],
      "metadata": {
        "colab": {
          "base_uri": "https://localhost:8080/",
          "height": 435
        },
        "id": "T2MuneQazzC8",
        "outputId": "3ce3d211-4a52-417b-bb1f-3773da19ab51"
      },
      "execution_count": 22,
      "outputs": [
        {
          "output_type": "display_data",
          "data": {
            "text/plain": [
              "<Figure size 640x480 with 2 Axes>"
            ],
            "image/png": "[encoded data removed]"
          },
          "metadata": {}
        }
      ]
    },
    {
      "cell_type": "code",
      "source": [
        "# 21. Use seaborn to create a correlation matrix.\n",
        "\n",
        "sns.heatmap(df.corr(), annot=True)\n",
        "plt.show()"
      ],
      "metadata": {
        "colab": {
          "base_uri": "https://localhost:8080/",
          "height": 435
        },
        "id": "uN7OjGZyzyt6",
        "outputId": "56092cef-62cd-4d34-fc6a-8aa186087155"
      },
      "execution_count": 23,
      "outputs": [
        {
          "output_type": "display_data",
          "data": {
            "text/plain": [
              "<Figure size 640x480 with 2 Axes>"
            ],
            "image/png": "[encoded data removed]"
          },
          "metadata": {}
        }
      ]
    },
    {
      "cell_type": "code",
      "source": [
        "# 22. Generate dataset and compute variance & std deviation.\n",
        "\n",
        "print(\"Variance:\", np.var(data))\n",
        "print(\"Std Dev:\", np.std(data))"
      ],
      "metadata": {
        "colab": {
          "base_uri": "https://localhost:8080/"
        },
        "id": "umEUJ_Xq0Q3f",
        "outputId": "aaecf164-ad26-44f2-aa88-1a2248639394"
      },
      "execution_count": 24,
      "outputs": [
        {
          "output_type": "stream",
          "name": "stdout",
          "text": [
            "Variance: 92.888801582905\n",
            "Std Dev: 9.637883667222022\n"
          ]
        }
      ]
    },
    {
      "cell_type": "code",
      "execution_count": 25,
      "metadata": {
        "colab": {
          "base_uri": "https://localhost:8080/"
        },
        "id": "lzQNFcP-mCLy",
        "outputId": "2fa9dd5e-ca19-493c-b27b-e00d50a5bf8d"
      },
      "outputs": [
        {
          "output_type": "stream",
          "name": "stdout",
          "text": [
            "Pearson: PearsonRResult(statistic=np.float64(0.9999999999999999), pvalue=np.float64(0.0))\n",
            "Spearman: SignificanceResult(statistic=np.float64(1.0), pvalue=np.float64(0.0))\n"
          ]
        }
      ],
      "source": [
        "# 24. implement Pearson & Spearman correlation coefficients.\n",
        "\n",
        "from scipy.stats import pearsonr, spearmanr\n",
        "print(\"Pearson:\", pearsonr(x, y))\n",
        "print(\"Spearman:\", spearmanr(x, y))\n",
        "\n"
      ]
    },
    {
      "cell_type": "code",
      "source": [
        "# 23. Visualize skewness & kurtosis using seaborn.\n",
        "\n",
        "sns.histplot(data, kde=True)\n",
        "plt.show()"
      ],
      "metadata": {
        "id": "G3eMbhJ4wFVR"
      },
      "execution_count": null,
      "outputs": []
    }
  ]
}